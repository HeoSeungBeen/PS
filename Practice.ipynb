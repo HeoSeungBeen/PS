{
  "nbformat": 4,
  "nbformat_minor": 0,
  "metadata": {
    "colab": {
      "provenance": [],
      "authorship_tag": "ABX9TyNWnF5v7CXq+/+G5oFPflYP",
      "include_colab_link": true
    },
    "kernelspec": {
      "name": "python3",
      "display_name": "Python 3"
    },
    "language_info": {
      "name": "python"
    }
  },
  "cells": [
    {
      "cell_type": "markdown",
      "metadata": {
        "id": "view-in-github",
        "colab_type": "text"
      },
      "source": [
        "<a href=\"https://colab.research.google.com/github/HeoSeungBeen/PS/blob/main/Practice.ipynb\" target=\"_parent\"><img src=\"https://colab.research.google.com/assets/colab-badge.svg\" alt=\"Open In Colab\"/></a>"
      ]
    },
    {
      "cell_type": "code",
      "source": [
        "import pandas as pd\n",
        "\n",
        "def str_to_mean(df, column):\n",
        "    df[column] = pd.to_numeric(df[column], errors='coerce')\n",
        "    mean_value = df[column].mean()\n",
        "    df[column].fillna(int(mean_value), inplace=True)\n",
        "    return df"
      ],
      "metadata": {
        "id": "yX1n6FkmhtD5"
      },
      "execution_count": 31,
      "outputs": []
    },
    {
      "cell_type": "code",
      "source": [
        "import pandas as pd\n",
        "\n",
        "df = pd.read_csv('https://raw.githubusercontent.com/HeoSeungBeen/ML/main/SurveyResult_UTF-8.csv')\n",
        "\n",
        "seat_df = df.iloc[:, 1:33] # seat data\n",
        "\n",
        "ss_df = df.iloc[:, 33:49] # season data\n",
        "\n",
        "rel_df = df.iloc[:, 49:64] # relationship data\n",
        "\n",
        "gpa_df = df.iloc[:, 64:78] # gpa data"
      ],
      "metadata": {
        "id": "pAaxAwbG0Ate"
      },
      "execution_count": 8,
      "outputs": []
    },
    {
      "cell_type": "code",
      "source": [
        "X_train, X_test, y_train, y_test = train_test_split(X, y, test_size = 0.3)"
      ],
      "metadata": {
        "id": "YH8tU2QNiy1y"
      },
      "execution_count": null,
      "outputs": []
    },
    {
      "cell_type": "code",
      "source": [
        "from sklearn.preprocessing import LabelEncoder\n",
        "from sklearn.model_selection import train_test_split\n",
        "\n",
        "ss_df = df.iloc[:, 33:49] # season data\n",
        "ss_df.columns = [\n",
        "    'season', # 예측 변수 : 계절\n",
        "    'birth_month', # 생일 월\n",
        "    'birth_region', # 태어난 지역\n",
        "    'weekly_outings', # 주간 외출 횟수\n",
        "    'perspiration', # 땀\n",
        "    'cold_tolerance', # 추위\n",
        "    'allergies', # 알러지\n",
        "    'dream_destination', # 여행 목적지\n",
        "    'social_activities', # 사회 활동\n",
        "    'challenge', # 도전 성향\n",
        "    'personality', # 성격\n",
        "    'color', # 색\n",
        "    'music', # 음악 장르\n",
        "    'activity', # 선호 활동\n",
        "    'fruit', # 과일\n",
        "    'food' # 음식\n",
        "]\n",
        "\n",
        "# ss_df = ss_df.drop(['dream_destination', 'challenge', 'personality', 'music'], axis=1)\n",
        "ss_df = ss_df.dropna()\n",
        "for column in ['season', 'birth_region', 'allergies', 'dream_destination', 'personality', 'color', 'music', 'activity', 'fruit', 'food']:\n",
        "  encoder = LabelEncoder()\n",
        "  ss_df[column] = encoder.fit_transform(ss_df[column])\n",
        "ss_df = ss_df.reset_index(drop=True)\n",
        "ss_df.loc[ss_df['birth_month'] == '12월', 'birth_month'] = 12\n",
        "ss_df.loc[ss_df['birth_month'] == '3월', 'birth_month'] = 3\n",
        "X = ss_df.iloc[:, 1:]\n",
        "y = ss_df['season']\n",
        "X_train, X_test, y_train, y_test = train_test_split(X, y, test_size = 0.3)"
      ],
      "metadata": {
        "id": "037RQ2FmZP-3"
      },
      "execution_count": 9,
      "outputs": []
    },
    {
      "cell_type": "code",
      "source": [
        "from sklearn.linear_model import LogisticRegression\n",
        "\n",
        "lr_clf = LogisticRegression()\n",
        "lr_clf.fit(X_train, y_train)\n",
        "\n",
        "print(lr_clf.score(X_train, y_train))\n",
        "print(lr_clf.score(X_test, y_test))"
      ],
      "metadata": {
        "colab": {
          "base_uri": "https://localhost:8080/"
        },
        "id": "ygzSgcjgZPkA",
        "outputId": "a273a6cc-c518-4875-de20-d98f22b97f6b"
      },
      "execution_count": 10,
      "outputs": [
        {
          "output_type": "stream",
          "name": "stdout",
          "text": [
            "0.6956521739130435\n",
            "0.23809523809523808\n"
          ]
        },
        {
          "output_type": "stream",
          "name": "stderr",
          "text": [
            "/usr/local/lib/python3.10/dist-packages/sklearn/linear_model/_logistic.py:458: ConvergenceWarning: lbfgs failed to converge (status=1):\n",
            "STOP: TOTAL NO. of ITERATIONS REACHED LIMIT.\n",
            "\n",
            "Increase the number of iterations (max_iter) or scale the data as shown in:\n",
            "    https://scikit-learn.org/stable/modules/preprocessing.html\n",
            "Please also refer to the documentation for alternative solver options:\n",
            "    https://scikit-learn.org/stable/modules/linear_model.html#logistic-regression\n",
            "  n_iter_i = _check_optimize_result(\n"
          ]
        }
      ]
    },
    {
      "cell_type": "code",
      "source": [
        "from sklearn.tree import DecisionTreeClassifier\n",
        "\n",
        "tree_clf = DecisionTreeClassifier(class_weight='balanced', max_depth = 6)\n",
        "tree_clf.fit(X_train, y_train)\n",
        "print(tree_clf.score(X_train, y_train))\n",
        "print(tree_clf.score(X_test, y_test))"
      ],
      "metadata": {
        "colab": {
          "base_uri": "https://localhost:8080/"
        },
        "id": "F7uZhR_Iks0L",
        "outputId": "3c4ae04c-bddc-45d3-8195-ee1df3ed3b10"
      },
      "execution_count": 11,
      "outputs": [
        {
          "output_type": "stream",
          "name": "stdout",
          "text": [
            "0.9347826086956522\n",
            "0.42857142857142855\n"
          ]
        }
      ]
    },
    {
      "cell_type": "code",
      "source": [
        "from sklearn.ensemble import RandomForestClassifier\n",
        "\n",
        "rf_clf = RandomForestClassifier(random_state = 24)\n",
        "rf_clf.fit(X_train, y_train)\n",
        "print(rf_clf.score(X_train, y_train))\n",
        "print(rf_clf.score(X_test, y_test))"
      ],
      "metadata": {
        "colab": {
          "base_uri": "https://localhost:8080/"
        },
        "id": "gme-pw9YZP1T",
        "outputId": "9d930176-5cbe-4fa0-9f55-a605a8031323"
      },
      "execution_count": 45,
      "outputs": [
        {
          "output_type": "stream",
          "name": "stderr",
          "text": [
            "<ipython-input-45-80768f41b27c>:4: DataConversionWarning: A column-vector y was passed when a 1d array was expected. Please change the shape of y to (n_samples,), for example using ravel().\n",
            "  rf_clf.fit(X_train, y_train)\n"
          ]
        },
        {
          "output_type": "stream",
          "name": "stdout",
          "text": [
            "1.0\n",
            "0.35\n"
          ]
        }
      ]
    },
    {
      "cell_type": "code",
      "source": [
        "from sklearn.preprocessing import LabelEncoder\n",
        "from sklearn.model_selection import train_test_split\n",
        "\n",
        "rel_data = df.iloc[:, 49:64] # relationship data\n",
        "\n",
        "rel_data.columns = [\n",
        "    'num',\n",
        "    'age',\n",
        "    'sex',\n",
        "    'highschool',\n",
        "    'crush',\n",
        "    'couple',\n",
        "    'conversation',\n",
        "    'club',\n",
        "    'mbti',\n",
        "    'meeting',\n",
        "    'asking',\n",
        "    'interest',\n",
        "    'friends',\n",
        "    'face',\n",
        "    'concern'\n",
        "]\n",
        "rel_data = rel_data.dropna()\n",
        "for column in ['age', 'sex', 'highschool', 'crush', 'couple', 'conversation', 'club', 'mbti', 'meeting', 'asking', 'interest', 'face', 'concern']:\n",
        "  encoder = LabelEncoder()\n",
        "  rel_data[column] = encoder.fit_transform(rel_data[column])\n",
        "rel_data.loc[rel_data['num']=='5번', 'num'] = 5\n",
        "rel_data.loc[rel_data['num']=='4번', 'num'] = 4\n",
        "rel_data.loc[rel_data['num']=='2번', 'num'] = 2\n",
        "rel_data = str_to_mean(rel_data, 'friends')\n",
        "rel_data = str_to_mean(rel_data, 'num')\n",
        "X = rel_data.iloc[:, 1:]\n",
        "y = rel_data.iloc[:, :1]\n",
        "X_train, X_test, y_train, y_test = train_test_split(X, y, test_size = 0.3)"
      ],
      "metadata": {
        "id": "UvExizL6yoyn"
      },
      "execution_count": 40,
      "outputs": []
    },
    {
      "cell_type": "code",
      "source": [
        "from sklearn.tree import DecisionTreeClassifier\n",
        "\n",
        "tree_clf = DecisionTreeClassifier(class_weight='balanced') # max_depth\n",
        "tree_clf.fit(X_train, y_train)\n",
        "print(tree_clf.score(X_train, y_train))\n",
        "print(tree_clf.score(X_test, y_test))"
      ],
      "metadata": {
        "colab": {
          "base_uri": "https://localhost:8080/"
        },
        "id": "2Y1ev9kTlQze",
        "outputId": "ac8b7ef0-dcf0-40b9-f15f-3a74d4bdfe1a"
      },
      "execution_count": 42,
      "outputs": [
        {
          "output_type": "stream",
          "name": "stdout",
          "text": [
            "1.0\n",
            "0.15\n"
          ]
        }
      ]
    },
    {
      "cell_type": "code",
      "source": [
        "from sklearn.ensemble import RandomForestClassifier\n",
        "\n",
        "rf_clf = RandomForestClassifier(random_state = 24)\n",
        "rf_clf.fit(X_train, y_train)\n",
        "print(rf_clf.score(X_train, y_train))\n",
        "print(rf_clf.score(X_test, y_test))"
      ],
      "metadata": {
        "colab": {
          "base_uri": "https://localhost:8080/"
        },
        "id": "RFYzFDBJlohD",
        "outputId": "a66a0366-2c72-4759-bd21-a0501f28c63e"
      },
      "execution_count": 46,
      "outputs": [
        {
          "output_type": "stream",
          "name": "stdout",
          "text": [
            "1.0\n",
            "0.35\n"
          ]
        },
        {
          "output_type": "stream",
          "name": "stderr",
          "text": [
            "<ipython-input-46-80768f41b27c>:4: DataConversionWarning: A column-vector y was passed when a 1d array was expected. Please change the shape of y to (n_samples,), for example using ravel().\n",
            "  rf_clf.fit(X_train, y_train)\n"
          ]
        }
      ]
    }
  ]
}